{
 "cells": [
  {
   "cell_type": "code",
   "execution_count": 3,
   "metadata": {},
   "outputs": [
    {
     "name": "stdout",
     "output_type": "stream",
     "text": [
      "\u001b[33mDEPRECATION: Python 2.7 will reach the end of its life on January 1st, 2020. Please upgrade your Python as Python 2.7 won't be maintained after that date. A future version of pip will drop support for Python 2.7. More details about Python 2 support in pip, can be found at https://pip.pypa.io/en/latest/development/release-process/#python-2-support\u001b[0m\n",
      "Requirement already satisfied: tqdm in /home/ec2-user/anaconda3/envs/tensorflow_p27/lib/python2.7/site-packages (4.42.1)\n"
     ]
    }
   ],
   "source": [
    "!pip install tqdm"
   ]
  },
  {
   "cell_type": "code",
   "execution_count": 4,
   "metadata": {},
   "outputs": [
    {
     "name": "stdout",
     "output_type": "stream",
     "text": [
      "\u001b[33mDEPRECATION: Python 2.7 will reach the end of its life on January 1st, 2020. Please upgrade your Python as Python 2.7 won't be maintained after that date. A future version of pip will drop support for Python 2.7. More details about Python 2 support in pip, can be found at https://pip.pypa.io/en/latest/development/release-process/#python-2-support\u001b[0m\n",
      "Requirement already satisfied: tenacity in /home/ec2-user/anaconda3/envs/tensorflow_p27/lib/python2.7/site-packages (6.0.0)\n",
      "Requirement already satisfied: monotonic>=0.6; python_version == \"2.7\" in /home/ec2-user/anaconda3/envs/tensorflow_p27/lib/python2.7/site-packages (from tenacity) (1.5)\n",
      "Requirement already satisfied: six>=1.9.0 in /home/ec2-user/anaconda3/envs/tensorflow_p27/lib/python2.7/site-packages (from tenacity) (1.11.0)\n",
      "Requirement already satisfied: futures>=3.0; python_version == \"2.7\" in /home/ec2-user/anaconda3/envs/tensorflow_p27/lib/python2.7/site-packages (from tenacity) (3.2.0)\n"
     ]
    }
   ],
   "source": [
    "!pip install tenacity"
   ]
  },
  {
   "cell_type": "code",
   "execution_count": 1,
   "metadata": {},
   "outputs": [],
   "source": [
    "import os\n",
    "import io\n",
    "import json, glob\n",
    "import urllib3\n",
    "from PIL import *\n",
    "import PIL.Image\n",
    "import numpy as np\n",
    "import pandas as pd\n",
    "from tenacity import *"
   ]
  },
  {
   "cell_type": "code",
   "execution_count": 2,
   "metadata": {},
   "outputs": [
    {
     "name": "stdout",
     "output_type": "stream",
     "text": [
      "/home/ec2-user/SageMaker/imat\n"
     ]
    }
   ],
   "source": [
    "def parse_dataset(dataset, outdir, _max=10000):\n",
    "    \"\"\"\n",
    "    parse the dataset to create a list of tuple containing absolute path and url of image\n",
    "    :param _dataset: dataset to parse\n",
    "    :param _outdir: output directory where data will be saved\n",
    "    :param _max: maximum images to download (change to download all dataset)\n",
    "    :return: list of tuple containing absolute path and url of image\n",
    "    \"\"\"\n",
    "    _fnames_urls = []\n",
    "    with open(dataset, 'r') as f:\n",
    "        data = json.load(f)\n",
    "        for image in data[\"images\"]:\n",
    "            url = image[\"url\"]\n",
    "            fname = os.path.join(outdir, \"{}.jpg\".format(image[\"imageId\"]))\n",
    "            _fnames_urls.append((fname, url))\n",
    "    return _fnames_urls[:_max]\n",
    "def download_image(fnames_and_urls):\n",
    "    \"\"\"\n",
    "    download image and save its with 90% quality as JPG format\n",
    "    skip image downloading if image already exists at given path\n",
    "    :param fnames_and_urls: tuple containing absolute path and url of image\n",
    "    \"\"\"\n",
    "    fname, url = fnames_and_urls\n",
    "    if not os.path.exists(fname):\n",
    "        http = urllib3.PoolManager(retries=Retry(connect=3, read=2, redirect=3))\n",
    "        response = http.request(\"GET\", url)\n",
    "        image = Image.open(io.BytesIO(response.data))\n",
    "        image_rgb = image.convert(\"RGB\")\n",
    "        image_rgb.save(fname, format='JPEG', quality=90)\n",
    "        \n",
    "%cd '/home/ec2-user/SageMaker/imat/'\n",
    "\n",
    "parse = parse_dataset('validation.json', '/home/ec2-user/SageMaker/imat/validation_images',100)\n",
    "\n",
    "for i in parse:\n",
    "    download_image(i)"
   ]
  },
  {
   "cell_type": "code",
   "execution_count": 3,
   "metadata": {},
   "outputs": [],
   "source": [
    "val_json = json.load(open('/home/ec2-user/SageMaker/imat/validation.json'))"
   ]
  },
  {
   "cell_type": "code",
   "execution_count": 4,
   "metadata": {},
   "outputs": [
    {
     "name": "stdout",
     "output_type": "stream",
     "text": [
      "9897\n"
     ]
    }
   ],
   "source": [
    "num_images = len(val_json['images'])\n",
    "print(num_images)"
   ]
  },
  {
   "cell_type": "code",
   "execution_count": 5,
   "metadata": {},
   "outputs": [],
   "source": [
    "# Get image ids and labels\n",
    "image_id = []\n",
    "label_id = []\n",
    "for i in range(num_images):\n",
    "    image_id.append(int(val_json['annotations'][i]['imageId']))\n",
    "    label_list = val_json['annotations'][i]['labelId']\n",
    "    label_str = ''\n",
    "    for j in range(len(label_list)):\n",
    "        label_str += ' ' + label_list[j]\n",
    "    label_str = label_str[1:]\n",
    "    label_id.append(label_str)"
   ]
  },
  {
   "cell_type": "code",
   "execution_count": 7,
   "metadata": {},
   "outputs": [
    {
     "data": {
      "text/plain": [
       "9897"
      ]
     },
     "execution_count": 7,
     "metadata": {},
     "output_type": "execute_result"
    }
   ],
   "source": [
    "len(label_id)"
   ]
  },
  {
   "cell_type": "code",
   "execution_count": 14,
   "metadata": {},
   "outputs": [],
   "source": [
    "def get_index(path):\n",
    "    return int(path.split('/')[-1].split('.')[0])\n"
   ]
  },
  {
   "cell_type": "code",
   "execution_count": 30,
   "metadata": {},
   "outputs": [
    {
     "ename": "TypeError",
     "evalue": "get_index() takes exactly 1 argument (2 given)",
     "output_type": "error",
     "traceback": [
      "\u001b[0;31m\u001b[0m",
      "\u001b[0;31mTypeError\u001b[0mTraceback (most recent call last)",
      "\u001b[0;32m<ipython-input-30-46b53f2c2376>\u001b[0m in \u001b[0;36m<module>\u001b[0;34m()\u001b[0m\n\u001b[1;32m      1\u001b[0m \u001b[0;31m# Get validation image paths\u001b[0m\u001b[0;34m\u001b[0m\u001b[0;34m\u001b[0m\u001b[0m\n\u001b[1;32m      2\u001b[0m \u001b[0mvalidation_path_format\u001b[0m \u001b[0;34m=\u001b[0m \u001b[0;34m'/home/ec2-user/SageMaker/imat/validation_images/*.jpg'\u001b[0m\u001b[0;34m\u001b[0m\u001b[0m\n\u001b[0;32m----> 3\u001b[0;31m \u001b[0mimage_path\u001b[0m \u001b[0;34m=\u001b[0m \u001b[0msorted\u001b[0m\u001b[0;34m(\u001b[0m\u001b[0mglob\u001b[0m\u001b[0;34m.\u001b[0m\u001b[0mglob\u001b[0m\u001b[0;34m(\u001b[0m\u001b[0mvalidation_path_format\u001b[0m\u001b[0;34m)\u001b[0m\u001b[0;34m,\u001b[0m \u001b[0mget_index\u001b[0m\u001b[0;34m)\u001b[0m\u001b[0;34m\u001b[0m\u001b[0m\n\u001b[0m",
      "\u001b[0;31mTypeError\u001b[0m: get_index() takes exactly 1 argument (2 given)"
     ]
    }
   ],
   "source": [
    "# Get validation image paths\n",
    "validation_path_format = '/home/ec2-user/SageMaker/imat/validation_images/*.jpg'\n",
    "image_path = sorted(glob.glob(validation_path_format), key = get_index)"
   ]
  },
  {
   "cell_type": "code",
   "execution_count": 29,
   "metadata": {},
   "outputs": [
    {
     "data": {
      "text/plain": [
       "0"
      ]
     },
     "execution_count": 29,
     "metadata": {},
     "output_type": "execute_result"
    }
   ],
   "source": [
    "len(image_path)"
   ]
  },
  {
   "cell_type": "code",
   "execution_count": 149,
   "metadata": {},
   "outputs": [],
   "source": [
    "validation_csv = pd.DataFrame({'imageId': image_id, 'labelId': label_id, 'imagePath': image_path})"
   ]
  },
  {
   "cell_type": "code",
   "execution_count": 172,
   "metadata": {},
   "outputs": [
    {
     "data": {
      "text/html": [
       "<div>\n",
       "<style scoped>\n",
       "    .dataframe tbody tr th:only-of-type {\n",
       "        vertical-align: middle;\n",
       "    }\n",
       "\n",
       "    .dataframe tbody tr th {\n",
       "        vertical-align: top;\n",
       "    }\n",
       "\n",
       "    .dataframe thead th {\n",
       "        text-align: right;\n",
       "    }\n",
       "</style>\n",
       "<table border=\"1\" class=\"dataframe\">\n",
       "  <thead>\n",
       "    <tr style=\"text-align: right;\">\n",
       "      <th></th>\n",
       "      <th>imageId</th>\n",
       "      <th>imagePath</th>\n",
       "      <th>labelId</th>\n",
       "    </tr>\n",
       "  </thead>\n",
       "  <tbody>\n",
       "    <tr>\n",
       "      <th>0</th>\n",
       "      <td>1</td>\n",
       "      <td>/home/ec2-user/SageMaker/imat/validation_image...</td>\n",
       "      <td>62 17 66 214 105 137 85</td>\n",
       "    </tr>\n",
       "    <tr>\n",
       "      <th>1</th>\n",
       "      <td>2</td>\n",
       "      <td>/home/ec2-user/SageMaker/imat/validation_image...</td>\n",
       "      <td>95 17 66 214 164 137 20 204 184</td>\n",
       "    </tr>\n",
       "    <tr>\n",
       "      <th>2</th>\n",
       "      <td>3</td>\n",
       "      <td>/home/ec2-user/SageMaker/imat/validation_image...</td>\n",
       "      <td>122 19 66 186 180 44 154 20</td>\n",
       "    </tr>\n",
       "    <tr>\n",
       "      <th>3</th>\n",
       "      <td>4</td>\n",
       "      <td>/home/ec2-user/SageMaker/imat/validation_image...</td>\n",
       "      <td>190 222 66 153 164 226 53 184</td>\n",
       "    </tr>\n",
       "    <tr>\n",
       "      <th>4</th>\n",
       "      <td>5</td>\n",
       "      <td>/home/ec2-user/SageMaker/imat/validation_image...</td>\n",
       "      <td>62 66 153 171 111 137 70 204 184</td>\n",
       "    </tr>\n",
       "  </tbody>\n",
       "</table>\n",
       "</div>"
      ],
      "text/plain": [
       "   imageId                                          imagePath  \\\n",
       "0        1  /home/ec2-user/SageMaker/imat/validation_image...   \n",
       "1        2  /home/ec2-user/SageMaker/imat/validation_image...   \n",
       "2        3  /home/ec2-user/SageMaker/imat/validation_image...   \n",
       "3        4  /home/ec2-user/SageMaker/imat/validation_image...   \n",
       "4        5  /home/ec2-user/SageMaker/imat/validation_image...   \n",
       "\n",
       "                            labelId  \n",
       "0           62 17 66 214 105 137 85  \n",
       "1   95 17 66 214 164 137 20 204 184  \n",
       "2       122 19 66 186 180 44 154 20  \n",
       "3     190 222 66 153 164 226 53 184  \n",
       "4  62 66 153 171 111 137 70 204 184  "
      ]
     },
     "execution_count": 172,
     "metadata": {},
     "output_type": "execute_result"
    }
   ],
   "source": [
    "validation_csv.head()"
   ]
  }
 ],
 "metadata": {
  "kernelspec": {
   "display_name": "conda_tensorflow_p27",
   "language": "python",
   "name": "conda_tensorflow_p27"
  },
  "language_info": {
   "codemirror_mode": {
    "name": "ipython",
    "version": 2
   },
   "file_extension": ".py",
   "mimetype": "text/x-python",
   "name": "python",
   "nbconvert_exporter": "python",
   "pygments_lexer": "ipython2",
   "version": "2.7.15"
  }
 },
 "nbformat": 4,
 "nbformat_minor": 4
}
