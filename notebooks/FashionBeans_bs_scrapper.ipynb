{
  "nbformat": 4,
  "nbformat_minor": 0,
  "metadata": {
    "kernelspec": {
      "name": "python3",
      "display_name": "Python 3"
    },
    "language_info": {
      "codemirror_mode": {
        "name": "ipython",
        "version": 3
      },
      "file_extension": ".py",
      "mimetype": "text/x-python",
      "name": "python",
      "nbconvert_exporter": "python",
      "pygments_lexer": "ipython3",
      "version": "3.7.3"
    },
    "colab": {
      "name": "FashionBeans -bs - scrapper.ipynb",
      "provenance": [],
      "collapsed_sections": [],
      "include_colab_link": true
    },
    "accelerator": "TPU"
  },
  "cells": [
    {
      "cell_type": "markdown",
      "metadata": {
        "id": "view-in-github",
        "colab_type": "text"
      },
      "source": [
        "<a href=\"https://colab.research.google.com/github/jimmy-io/Insight_project/blob/master/FashionBeans_bs_scrapper.ipynb\" target=\"_parent\"><img src=\"https://colab.research.google.com/assets/colab-badge.svg\" alt=\"Open In Colab\"/></a>"
      ]
    },
    {
      "cell_type": "code",
      "metadata": {
        "id": "qk4y2Nt0Uzce",
        "colab_type": "code",
        "colab": {}
      },
      "source": [
        "import bs4 as bs\n",
        "import urllib.request\n",
        "import requests"
      ],
      "execution_count": 0,
      "outputs": []
    },
    {
      "cell_type": "code",
      "metadata": {
        "id": "_JNp4_CJU6fG",
        "colab_type": "code",
        "outputId": "cfeba003-bc84-4679-a566-7a1fbe97e9be",
        "colab": {
          "base_uri": "https://localhost:8080/",
          "height": 122
        }
      },
      "source": [
        "from google.colab import drive\n",
        "drive.mount('/content/drive')"
      ],
      "execution_count": 1,
      "outputs": [
        {
          "output_type": "stream",
          "text": [
            "Go to this URL in a browser: https://accounts.google.com/o/oauth2/auth?client_id=947318989803-6bn6qk8qdgf4n4g3pfee6491hc0brc4i.apps.googleusercontent.com&redirect_uri=urn%3aietf%3awg%3aoauth%3a2.0%3aoob&response_type=code&scope=email%20https%3a%2f%2fwww.googleapis.com%2fauth%2fdocs.test%20https%3a%2f%2fwww.googleapis.com%2fauth%2fdrive%20https%3a%2f%2fwww.googleapis.com%2fauth%2fdrive.photos.readonly%20https%3a%2f%2fwww.googleapis.com%2fauth%2fpeopleapi.readonly\n",
            "\n",
            "Enter your authorization code:\n",
            "··········\n",
            "Mounted at /content/drive\n"
          ],
          "name": "stdout"
        }
      ]
    },
    {
      "cell_type": "code",
      "metadata": {
        "id": "31Qmvu5GVJv2",
        "colab_type": "code",
        "outputId": "a8c56160-1674-4a84-b263-9035357c9487",
        "colab": {
          "base_uri": "https://localhost:8080/",
          "height": 34
        }
      },
      "source": [
        "%cd /content/drive/My\\ Drive/Insight/Project/fashionbeans"
      ],
      "execution_count": 3,
      "outputs": [
        {
          "output_type": "stream",
          "text": [
            "/content/drive/My Drive/Insight/Project/fashionbeans\n"
          ],
          "name": "stdout"
        }
      ]
    },
    {
      "cell_type": "code",
      "metadata": {
        "id": "W4Bykk-LUzct",
        "colab_type": "code",
        "outputId": "18acbfb2-62c8-4273-ff80-e7d51f193fce",
        "colab": {
          "base_uri": "https://localhost:8080/",
          "height": 232
        }
      },
      "source": [
        "pages = 76\n",
        "\n",
        "for pg in range(pages):\n",
        "\n",
        "    url='https://www.fashionbeans.com/category/mens-street-style/page/' + str(pg) + '/'\n",
        "\n",
        "    source = urllib.request.urlopen(url).read()\n",
        "    soup=bs.BeautifulSoup(source, 'lxml')\n",
        "\n",
        "    table = soup.find('table')\n",
        "\n",
        "    table_rows = table.find_all('tr')\n",
        "\n",
        "    ls = []\n",
        "    for tr in table_rows:\n",
        "        td = tr.find_all('a')\n",
        "        row = [tr.text.strip() for tr in td]\n",
        "        ls.append(row)"
      ],
      "execution_count": 0,
      "outputs": [
        {
          "output_type": "error",
          "ename": "AttributeError",
          "evalue": "ignored",
          "traceback": [
            "\u001b[0;31m---------------------------------------------------------------------------\u001b[0m",
            "\u001b[0;31mAttributeError\u001b[0m                            Traceback (most recent call last)",
            "\u001b[0;32m<ipython-input-10-f1fee7a841fc>\u001b[0m in \u001b[0;36m<module>\u001b[0;34m()\u001b[0m\n\u001b[1;32m     10\u001b[0m     \u001b[0mtable\u001b[0m \u001b[0;34m=\u001b[0m \u001b[0msoup\u001b[0m\u001b[0;34m.\u001b[0m\u001b[0mfind\u001b[0m\u001b[0;34m(\u001b[0m\u001b[0;34m'table'\u001b[0m\u001b[0;34m)\u001b[0m\u001b[0;34m\u001b[0m\u001b[0;34m\u001b[0m\u001b[0m\n\u001b[1;32m     11\u001b[0m \u001b[0;34m\u001b[0m\u001b[0m\n\u001b[0;32m---> 12\u001b[0;31m     \u001b[0mtable_rows\u001b[0m \u001b[0;34m=\u001b[0m \u001b[0mtable\u001b[0m\u001b[0;34m.\u001b[0m\u001b[0mfind_all\u001b[0m\u001b[0;34m(\u001b[0m\u001b[0;34m'tr'\u001b[0m\u001b[0;34m)\u001b[0m\u001b[0;34m\u001b[0m\u001b[0;34m\u001b[0m\u001b[0m\n\u001b[0m\u001b[1;32m     13\u001b[0m \u001b[0;34m\u001b[0m\u001b[0m\n\u001b[1;32m     14\u001b[0m     \u001b[0mls\u001b[0m \u001b[0;34m=\u001b[0m \u001b[0;34m[\u001b[0m\u001b[0;34m]\u001b[0m\u001b[0;34m\u001b[0m\u001b[0;34m\u001b[0m\u001b[0m\n",
            "\u001b[0;31mAttributeError\u001b[0m: 'NoneType' object has no attribute 'find_all'"
          ]
        }
      ]
    },
    {
      "cell_type": "code",
      "metadata": {
        "id": "xrp4y1p_Uzcz",
        "colab_type": "code",
        "outputId": "a5e3b0fb-c8e6-4fd7-c7db-cab072ee0f91",
        "colab": {}
      },
      "source": [
        "url='https://www.fashionbeans.com/category/mens-street-style/page/2/'\n",
        "\n",
        "source = urllib.request.urlopen(url).read()\n",
        "soup=bs.BeautifulSoup(source, 'lxml')\n",
        "\n",
        "for each_div in soup.findAll('div',{'class':'fluidArticleContent'}):\n",
        "    td = each_div.img['src']  #.find_all('img')\n",
        "    tr = td\n",
        "    print(tr)\n",
        "\n"
      ],
      "execution_count": 0,
      "outputs": [
        {
          "output_type": "stream",
          "text": [
            "https://static1.fashionbeans.com/wp-content/uploads/2019/10/2019hannahsept10-255x400.jpg\n",
            "https://static4.fashionbeans.com/wp-content/uploads/2019/10/2019hannahsept17-255x400.jpg\n",
            "https://static2.fashionbeans.com/wp-content/uploads/2019/10/2019hannahsept18-255x400.jpg\n",
            "https://static2.fashionbeans.com/wp-content/uploads/2019/10/2019hannahsept16-255x400.jpg\n",
            "https://static4.fashionbeans.com/wp-content/uploads/2019/10/2019hannahsept19-255x400.jpg\n",
            "https://static1.fashionbeans.com/wp-content/uploads/2019/10/2019hannahsept2-255x400.jpg\n",
            "https://static1.fashionbeans.com/wp-content/uploads/2019/10/2019hannahsept3-255x400.jpg\n",
            "https://static1.fashionbeans.com/wp-content/uploads/2019/10/2019hannahsept6-255x400.jpg\n",
            "https://static4.fashionbeans.com/wp-content/uploads/2019/10/2019hannahsept26-255x400.jpg\n",
            "https://static2.fashionbeans.com/wp-content/uploads/2019/10/2019hannahsept25-255x400.jpg\n",
            "https://static1.fashionbeans.com/wp-content/uploads/2019/10/2019hannahsept13-255x400.jpg\n",
            "https://static4.fashionbeans.com/wp-content/uploads/2019/10/2019hannahsept12-255x400.jpg\n",
            "https://static2.fashionbeans.com/wp-content/uploads/2019/10/2019hannahsept20-255x400.jpg\n",
            "https://static1.fashionbeans.com/wp-content/uploads/2019/09/hannah2019august16-255x400.jpg\n",
            "https://static1.fashionbeans.com/wp-content/uploads/2019/09/hannah2019august18-255x400.jpg\n",
            "https://static4.fashionbeans.com/wp-content/uploads/2019/09/hannah2019august25-255x400.jpg\n",
            "https://static3.fashionbeans.com/wp-content/uploads/2019/09/hannah2019august29-255x400.jpg\n",
            "https://static2.fashionbeans.com/wp-content/uploads/2019/09/hannah2019august8-255x400.jpg\n",
            "https://static1.fashionbeans.com/wp-content/uploads/2019/08/hannah19may28-255x400.jpg\n",
            "https://static4.fashionbeans.com/wp-content/uploads/2019/08/hannah2019july9-255x400.jpg\n",
            "https://static4.fashionbeans.com/wp-content/uploads/2019/08/hannah19may4-255x400.jpg\n",
            "https://static2.fashionbeans.com/wp-content/uploads/2019/09/hannah2019august3-255x400.jpg\n",
            "https://static2.fashionbeans.com/wp-content/uploads/2019/09/hannah2019august4-255x400.jpg\n",
            "https://static3.fashionbeans.com/wp-content/uploads/2019/09/hannah2019august11-255x400.jpg\n",
            "https://static2.fashionbeans.com/wp-content/uploads/2019/09/hannah2019august22-255x400.jpg\n",
            "https://static1.fashionbeans.com/wp-content/uploads/2019/09/hannah2019august10-255x400.jpg\n",
            "https://static4.fashionbeans.com/wp-content/uploads/2019/09/hannah2019august20-255x400.jpg\n",
            "https://static2.fashionbeans.com/wp-content/uploads/2019/09/hannah2019august7-255x400.jpg\n",
            "https://static2.fashionbeans.com/wp-content/uploads/2019/08/parissstyleimages20-255x400.jpg\n",
            "https://static1.fashionbeans.com/wp-content/uploads/2019/08/hannah19may26-255x400.jpg\n"
          ],
          "name": "stdout"
        }
      ]
    },
    {
      "cell_type": "code",
      "metadata": {
        "id": "A5IJw9mXUzc8",
        "colab_type": "code",
        "outputId": "60b645cf-19b3-4f15-a9d2-19cc929539bf",
        "colab": {
          "base_uri": "https://localhost:8080/",
          "height": 34
        }
      },
      "source": [
        "urllib.request.urlretrieve(\"https://static2.fashionbeans.com/wp-content/uploads/2019/08/hannah19may26.jpg\", \"00000001.jpg\")"
      ],
      "execution_count": 5,
      "outputs": [
        {
          "output_type": "execute_result",
          "data": {
            "text/plain": [
              "('00000001.jpg', <http.client.HTTPMessage at 0x7f438783a748>)"
            ]
          },
          "metadata": {
            "tags": []
          },
          "execution_count": 5
        }
      ]
    },
    {
      "cell_type": "code",
      "metadata": {
        "id": "YLsiitOOUzdF",
        "colab_type": "code",
        "outputId": "4e1077c5-dd9a-4999-851e-9d52075eeb96",
        "colab": {
          "base_uri": "https://localhost:8080/",
          "height": 1000
        }
      },
      "source": [
        "pages = 76\n",
        "\n",
        "\n",
        "\n",
        "for pg in range(pages):\n",
        "\n",
        "    url='https://www.fashionbeans.com/category/mens-street-style/page/' + str(pg) + '/'\n",
        "    \n",
        "    source = urllib.request.urlopen(url).read()\n",
        "    soup=bs.BeautifulSoup(source, 'lxml')\n",
        "    \n",
        "    count = 0\n",
        "    \n",
        "    for each_div in soup.findAll('div',{'class':'fluidArticleContent'}):\n",
        "        td = each_div.img['src']  #.find_all('img')\n",
        "        \n",
        "        #print(td)\n",
        "        td=td[:-12]+str('.jpg')\n",
        "        count += 1\n",
        "        print(count)\n",
        "        urllib.request.urlretrieve(str(td), str(pg) +str('+')+ str(count) + \".jpg\")\n",
        "        #print(str(td))"
      ],
      "execution_count": 0,
      "outputs": [
        {
          "output_type": "stream",
          "text": [
            "1\n",
            "2\n",
            "3\n",
            "4\n",
            "5\n",
            "6\n",
            "7\n",
            "8\n",
            "9\n",
            "10\n",
            "11\n",
            "12\n",
            "13\n",
            "14\n",
            "15\n",
            "16\n",
            "17\n",
            "18\n",
            "19\n",
            "20\n",
            "21\n",
            "22\n",
            "23\n",
            "24\n",
            "25\n",
            "26\n",
            "27\n",
            "28\n",
            "29\n",
            "30\n",
            "1\n",
            "2\n",
            "3\n",
            "4\n",
            "5\n",
            "6\n",
            "7\n",
            "8\n",
            "9\n",
            "10\n",
            "11\n",
            "12\n",
            "13\n",
            "14\n",
            "15\n",
            "16\n",
            "17\n",
            "18\n",
            "19\n",
            "20\n",
            "21\n",
            "22\n",
            "23\n",
            "24\n",
            "25\n",
            "26\n",
            "27\n",
            "28\n",
            "29\n",
            "30\n",
            "1\n",
            "2\n",
            "3\n",
            "4\n",
            "5\n",
            "6\n",
            "7\n",
            "8\n",
            "9\n"
          ],
          "name": "stdout"
        }
      ]
    },
    {
      "cell_type": "code",
      "metadata": {
        "id": "kag38dwpUzdL",
        "colab_type": "code",
        "colab": {}
      },
      "source": [
        ""
      ],
      "execution_count": 0,
      "outputs": []
    }
  ]
}