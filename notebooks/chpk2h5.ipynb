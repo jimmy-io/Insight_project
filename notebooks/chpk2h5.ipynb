{
 "cells": [
  {
   "cell_type": "code",
   "execution_count": 149,
   "metadata": {},
   "outputs": [
    {
     "name": "stdout",
     "output_type": "stream",
     "text": [
      "_________________________________________________________________\n",
      "Layer (type)                 Output Shape              Param #   \n",
      "=================================================================\n",
      "conv2d_57 (Conv2D)           (None, 54, 54, 96)        34944     \n",
      "_________________________________________________________________\n",
      "activation_90 (Activation)   (None, 54, 54, 96)        0         \n",
      "_________________________________________________________________\n",
      "max_pooling2d_34 (MaxPooling (None, 26, 26, 96)        0         \n",
      "_________________________________________________________________\n",
      "conv2d_58 (Conv2D)           (None, 26, 26, 256)       614656    \n",
      "_________________________________________________________________\n",
      "activation_91 (Activation)   (None, 26, 26, 256)       0         \n",
      "_________________________________________________________________\n",
      "max_pooling2d_35 (MaxPooling (None, 12, 12, 256)       0         \n",
      "_________________________________________________________________\n",
      "conv2d_59 (Conv2D)           (None, 12, 12, 384)       885120    \n",
      "_________________________________________________________________\n",
      "activation_92 (Activation)   (None, 12, 12, 384)       0         \n",
      "_________________________________________________________________\n",
      "conv2d_60 (Conv2D)           (None, 12, 12, 384)       1327488   \n",
      "_________________________________________________________________\n",
      "activation_93 (Activation)   (None, 12, 12, 384)       0         \n",
      "_________________________________________________________________\n",
      "conv2d_61 (Conv2D)           (None, 12, 12, 256)       884992    \n",
      "_________________________________________________________________\n",
      "activation_94 (Activation)   (None, 12, 12, 256)       0         \n",
      "_________________________________________________________________\n",
      "flatten_12 (Flatten)         (None, 36864)             0         \n",
      "_________________________________________________________________\n",
      "dense_34 (Dense)             (None, 4096)              150999040 \n",
      "_________________________________________________________________\n",
      "activation_95 (Activation)   (None, 4096)              0         \n",
      "_________________________________________________________________\n",
      "dropout_23 (Dropout)         (None, 4096)              0         \n",
      "_________________________________________________________________\n",
      "dense_35 (Dense)             (None, 4096)              16781312  \n",
      "_________________________________________________________________\n",
      "activation_96 (Activation)   (None, 4096)              0         \n",
      "_________________________________________________________________\n",
      "dropout_24 (Dropout)         (None, 4096)              0         \n",
      "_________________________________________________________________\n",
      "dense_36 (Dense)             (None, 228)               934116    \n",
      "_________________________________________________________________\n",
      "activation_97 (Activation)   (None, 228)               0         \n",
      "=================================================================\n",
      "Total params: 172,461,668\n",
      "Trainable params: 172,461,668\n",
      "Non-trainable params: 0\n",
      "_________________________________________________________________\n"
     ]
    },
    {
     "ename": "NameError",
     "evalue": "name 'SGD' is not defined",
     "output_type": "error",
     "traceback": [
      "\u001b[0;31m---------------------------------------------------------------------------\u001b[0m",
      "\u001b[0;31mNameError\u001b[0m                                 Traceback (most recent call last)",
      "\u001b[0;32m<ipython-input-149-750e4a716e5e>\u001b[0m in \u001b[0;36m<module>\u001b[0;34m()\u001b[0m\n\u001b[1;32m     77\u001b[0m \u001b[0;34m\u001b[0m\u001b[0m\n\u001b[1;32m     78\u001b[0m \u001b[0;31m# Compile the model\u001b[0m\u001b[0;34m\u001b[0m\u001b[0;34m\u001b[0m\u001b[0m\n\u001b[0;32m---> 79\u001b[0;31m \u001b[0mopt\u001b[0m \u001b[0;34m=\u001b[0m \u001b[0mSGD\u001b[0m\u001b[0;34m(\u001b[0m\u001b[0mlr\u001b[0m\u001b[0;34m=\u001b[0m\u001b[0;36m0.001\u001b[0m\u001b[0;34m)\u001b[0m\u001b[0;34m\u001b[0m\u001b[0m\n\u001b[0m\u001b[1;32m     80\u001b[0m \u001b[0mmodel\u001b[0m\u001b[0;34m.\u001b[0m\u001b[0mcompile\u001b[0m\u001b[0;34m(\u001b[0m\u001b[0mloss\u001b[0m \u001b[0;34m=\u001b[0m \u001b[0;34m\"categorical_crossentropy\"\u001b[0m\u001b[0;34m,\u001b[0m \u001b[0moptimizer\u001b[0m \u001b[0;34m=\u001b[0m \u001b[0mopt\u001b[0m\u001b[0;34m,\u001b[0m \u001b[0mmetrics\u001b[0m\u001b[0;34m=\u001b[0m\u001b[0;34m[\u001b[0m\u001b[0;34m'accuracy'\u001b[0m\u001b[0;34m]\u001b[0m\u001b[0;34m)\u001b[0m\u001b[0;34m\u001b[0m\u001b[0m\n\u001b[1;32m     81\u001b[0m \u001b[0;34m\u001b[0m\u001b[0m\n",
      "\u001b[0;31mNameError\u001b[0m: name 'SGD' is not defined"
     ]
    }
   ],
   "source": [
    "import keras\n",
    "from keras.models import Sequential\n",
    "from keras.layers import Dense, Activation, Dropout, Flatten, Conv2D, MaxPooling2D\n",
    "from keras.layers.normalization import BatchNormalization\n",
    "import numpy as np\n",
    "np.random.seed(1000)\n",
    "\n",
    "\n",
    "#Instantiate an empty model\n",
    "model = Sequential()\n",
    "\n",
    "# 1st Convolutional Layer\n",
    "layer1=Conv2D(filters=96, input_shape=(224,224,3), kernel_size=(11,11), strides=(4,4), padding='valid')\n",
    "model.add(layer1)\n",
    "layer2=Activation('relu')\n",
    "model.add(layer2)\n",
    "# Max Pooling\n",
    "layer3=MaxPooling2D(pool_size=(3,3), strides=(2,2), padding='valid')\n",
    "model.add(layer3)\n",
    "\n",
    "# 2nd Convolutional Layer\n",
    "layer4=Conv2D(filters=256, kernel_size=(5,5), padding='same')\n",
    "model.add(layer4)\n",
    "layer5=Activation('relu')\n",
    "model.add(layer5)\n",
    "# Max Pooling\n",
    "layer6=MaxPooling2D(pool_size=(3,3), strides=(2,2), padding='valid')\n",
    "model.add(layer6)\n",
    "\n",
    "# 3rd Convolutional Layer\n",
    "layer7=Conv2D(filters=384, kernel_size=(3,3),  padding='same')\n",
    "model.add(layer7)\n",
    "layer8=Activation('relu')\n",
    "model.add(layer8)\n",
    "\n",
    "# 4th Convolutional Layer\n",
    "layer9=Conv2D(filters=384, kernel_size=(3,3), padding='same')\n",
    "model.add(layer9)\n",
    "layer10=Activation('relu')\n",
    "model.add(layer10)\n",
    "\n",
    "# 5th Convolutional Layer\n",
    "layer11=Conv2D(filters=256, kernel_size=(3,3), padding='same')\n",
    "model.add(layer11)\n",
    "layer12=Activation('relu')\n",
    "model.add(layer12)\n",
    "# Max Pooling\n",
    "#layer13=MaxPooling2D(pool_size=(3,3), strides=(2,2), padding='valid')\n",
    "#model.add(layer13)\n",
    "\n",
    "# Passing it to a Fully Connected layer\n",
    "layer14=Flatten()\n",
    "model.add(layer14)\n",
    "# 1st Fully Connected Layer\n",
    "layer15=Dense(4096)\n",
    "model.add(layer15)\n",
    "layer16=Activation('relu')\n",
    "model.add(layer16)\n",
    "# Add Dropout to prevent overfitting\n",
    "model.add(Dropout(0.2))\n",
    "\n",
    "# 2nd Fully Connected Layer\n",
    "layer17=Dense(4096)\n",
    "model.add(layer17)\n",
    "layer18=Activation('relu')\n",
    "model.add(layer18)\n",
    "# Add Dropout\n",
    "model.add(Dropout(0.2))\n",
    "\n",
    "# Output Layer\n",
    "layer19=Dense(228)\n",
    "model.add(layer19)\n",
    "layer20=Activation('softmax')\n",
    "model.add(layer20)\n",
    "\n",
    "\n",
    "\n",
    "model.summary()\n",
    "\n",
    "# Compile the model\n",
    "opt = SGD(lr=0.001)\n",
    "model.compile(loss = \"categorical_crossentropy\", optimizer = opt, metrics=['accuracy'])\n",
    "                                "
   ]
  },
  {
   "cell_type": "code",
   "execution_count": 94,
   "metadata": {},
   "outputs": [
    {
     "name": "stdout",
     "output_type": "stream",
     "text": [
      "tensor_name:  dense_2/kernel\n",
      "(4096, 228)\n",
      "tensor_name:  dense_2/bias/Adagrad\n",
      "(228,)\n",
      "tensor_name:  dense_2/bias\n",
      "(228,)\n",
      "tensor_name:  dense/kernel\n",
      "(36864, 4096)\n",
      "tensor_name:  dense/bias/Adagrad\n",
      "(4096,)\n",
      "tensor_name:  conv2d_4/kernel/Adagrad\n",
      "(3, 3, 384, 256)\n",
      "tensor_name:  conv2d_4/bias/Adagrad\n",
      "(256,)\n",
      "tensor_name:  dense_2/kernel/Adagrad\n",
      "(4096, 228)\n",
      "tensor_name:  conv2d_4/bias\n",
      "(256,)\n",
      "tensor_name:  global_step\n",
      "()\n",
      "tensor_name:  conv2d_1/bias/Adagrad\n",
      "(256,)\n",
      "tensor_name:  conv2d/kernel/Adagrad\n",
      "(11, 11, 3, 96)\n",
      "tensor_name:  dense_1/kernel/Adagrad\n",
      "(4096, 4096)\n",
      "tensor_name:  dense_1/bias/Adagrad\n",
      "(4096,)\n",
      "tensor_name:  dense/kernel/Adagrad\n",
      "(36864, 4096)\n",
      "tensor_name:  conv2d/bias/Adagrad\n",
      "(96,)\n",
      "tensor_name:  conv2d_1/bias\n",
      "(256,)\n",
      "tensor_name:  conv2d/kernel\n",
      "(11, 11, 3, 96)\n",
      "tensor_name:  dense_1/kernel\n",
      "(4096, 4096)\n",
      "tensor_name:  conv2d_4/kernel\n",
      "(3, 3, 384, 256)\n",
      "tensor_name:  conv2d_2/kernel\n",
      "(3, 3, 256, 384)\n",
      "tensor_name:  conv2d_1/kernel\n",
      "(5, 5, 96, 256)\n",
      "tensor_name:  conv2d/bias\n",
      "(96,)\n",
      "tensor_name:  conv2d_1/kernel/Adagrad\n",
      "(5, 5, 96, 256)\n",
      "tensor_name:  conv2d_2/kernel/Adagrad\n",
      "(3, 3, 256, 384)\n",
      "tensor_name:  conv2d_2/bias\n",
      "(384,)\n",
      "tensor_name:  dense_1/bias\n",
      "(4096,)\n",
      "tensor_name:  conv2d_2/bias/Adagrad\n",
      "(384,)\n",
      "tensor_name:  conv2d_3/kernel/Adagrad\n",
      "(3, 3, 384, 384)\n",
      "tensor_name:  dense/bias\n",
      "(4096,)\n",
      "tensor_name:  conv2d_3/bias\n",
      "(384,)\n",
      "tensor_name:  conv2d_3/bias/Adagrad\n",
      "(384,)\n",
      "tensor_name:  conv2d_3/kernel\n",
      "(3, 3, 384, 384)\n"
     ]
    }
   ],
   "source": [
    "#Reading the TF checkpoint file obtained by training  \n",
    "\n",
    "from tensorflow.python import pywrap_tensorflow\n",
    "import os\n",
    "\n",
    "checkpoint_path = os.path.join('/home/ec2-user/SageMaker/imat/model/multilabel_alexnet_model/', \"model.ckpt-5000\")\n",
    "reader = pywrap_tensorflow.NewCheckpointReader(checkpoint_path)\n",
    "var_to_shape_map = reader.get_variable_to_shape_map()\n",
    "\n",
    "for key in var_to_shape_map:\n",
    "    print(\"tensor_name: \", key)\n",
    "    print(reader.get_tensor(key).shape) # Remove this is you want to print only variable names"
   ]
  },
  {
   "cell_type": "code",
   "execution_count": 150,
   "metadata": {},
   "outputs": [],
   "source": [
    "layer19.set_weights([tf.train.load_variable('/home/ec2-user/SageMaker/imat/model/multilabel_alexnet_model/model.ckpt-5000', \n",
    "                                            'dense_2/kernel'), \n",
    "                    tf.train.load_variable('/home/ec2-user/SageMaker/imat/model/multilabel_alexnet_model/model.ckpt-5000', \n",
    "                                           'dense_2/bias')])"
   ]
  },
  {
   "cell_type": "code",
   "execution_count": 151,
   "metadata": {},
   "outputs": [
    {
     "data": {
      "text/plain": [
       "[3, 3, 384, 256]"
      ]
     },
     "execution_count": 151,
     "metadata": {},
     "output_type": "execute_result"
    }
   ],
   "source": [
    "var_to_shape_map['conv2d_4/kernel']"
   ]
  },
  {
   "cell_type": "code",
   "execution_count": 152,
   "metadata": {},
   "outputs": [],
   "source": [
    "layer17.set_weights([tf.train.load_variable('/home/ec2-user/SageMaker/imat/model/multilabel_alexnet_model/model.ckpt-5000', \n",
    "                                            'dense_1/kernel'), \n",
    "                    tf.train.load_variable('/home/ec2-user/SageMaker/imat/model/multilabel_alexnet_model/model.ckpt-5000', \n",
    "                                           'dense_1/bias')])"
   ]
  },
  {
   "cell_type": "code",
   "execution_count": 153,
   "metadata": {},
   "outputs": [],
   "source": [
    "layer15.set_weights([tf.train.load_variable('/home/ec2-user/SageMaker/imat/model/multilabel_alexnet_model/model.ckpt-5000', \n",
    "                                            'dense/kernel'), \n",
    "                    tf.train.load_variable('/home/ec2-user/SageMaker/imat/model/multilabel_alexnet_model/model.ckpt-5000', \n",
    "                                           'dense/bias')])"
   ]
  },
  {
   "cell_type": "code",
   "execution_count": 154,
   "metadata": {},
   "outputs": [],
   "source": [
    "layer11.set_weights([tf.train.load_variable('/home/ec2-user/SageMaker/imat/model/multilabel_alexnet_model/model.ckpt-5000', \n",
    "                                            'conv2d_4/kernel'), \n",
    "                    tf.train.load_variable('/home/ec2-user/SageMaker/imat/model/multilabel_alexnet_model/model.ckpt-5000', \n",
    "                                           'conv2d_4/bias')])"
   ]
  },
  {
   "cell_type": "code",
   "execution_count": 155,
   "metadata": {},
   "outputs": [],
   "source": [
    "layer9.set_weights([tf.train.load_variable('/home/ec2-user/SageMaker/imat/model/multilabel_alexnet_model/model.ckpt-5000', \n",
    "                                            'conv2d_3/kernel'), \n",
    "                    tf.train.load_variable('/home/ec2-user/SageMaker/imat/model/multilabel_alexnet_model/model.ckpt-5000', \n",
    "                                           'conv2d_3/bias')])"
   ]
  },
  {
   "cell_type": "code",
   "execution_count": 156,
   "metadata": {},
   "outputs": [],
   "source": [
    "layer7.set_weights([tf.train.load_variable('/home/ec2-user/SageMaker/imat/model/multilabel_alexnet_model/model.ckpt-5000', \n",
    "                                            'conv2d_2/kernel'), \n",
    "                    tf.train.load_variable('/home/ec2-user/SageMaker/imat/model/multilabel_alexnet_model/model.ckpt-5000', \n",
    "                                           'conv2d_2/bias')])"
   ]
  },
  {
   "cell_type": "code",
   "execution_count": 157,
   "metadata": {},
   "outputs": [],
   "source": [
    "layer4.set_weights([tf.train.load_variable('/home/ec2-user/SageMaker/imat/model/multilabel_alexnet_model/model.ckpt-5000', \n",
    "                                            'conv2d_1/kernel'), \n",
    "                    tf.train.load_variable('/home/ec2-user/SageMaker/imat/model/multilabel_alexnet_model/model.ckpt-5000', \n",
    "                                           'conv2d_1/bias')])"
   ]
  },
  {
   "cell_type": "code",
   "execution_count": 158,
   "metadata": {},
   "outputs": [],
   "source": [
    "layer1.set_weights([tf.train.load_variable('/home/ec2-user/SageMaker/imat/model/multilabel_alexnet_model/model.ckpt-5000', \n",
    "                                            'conv2d/kernel'), \n",
    "                    tf.train.load_variable('/home/ec2-user/SageMaker/imat/model/multilabel_alexnet_model/model.ckpt-5000', \n",
    "                                           'conv2d/bias')])"
   ]
  },
  {
   "cell_type": "code",
   "execution_count": 159,
   "metadata": {},
   "outputs": [],
   "source": [
    "model.compile(loss=keras.losses.categorical_crossentropy, optimizer='adam', metrics=['accuracy'])"
   ]
  },
  {
   "cell_type": "code",
   "execution_count": 160,
   "metadata": {},
   "outputs": [
    {
     "name": "stdout",
     "output_type": "stream",
     "text": [
      "Loading images: 0\n"
     ]
    }
   ],
   "source": [
    "### Testing the model now loaded with weights from the checkpoint file \n",
    "\n",
    "## Training images and labels \n",
    "\n",
    "import numpy as np\n",
    "import pandas as pd\n",
    "import cv2\n",
    "\n",
    "NUM_CLASSES = 228\n",
    "IMAGE_WIDTH = 224\n",
    "IMAGE_HEIGHT = 224\n",
    "\n",
    "def load_images(addrs_list):   \n",
    "    images = np.empty((len(addrs_list), IMAGE_WIDTH, IMAGE_HEIGHT, 3), dtype=np.float32)\n",
    "    for i, fpath in enumerate(addrs_list):\n",
    "        img = cv2.imread(fpath, cv2.IMREAD_COLOR)\n",
    "        img = cv2.resize(img, (224, 224))\n",
    "        images[i, ...] = img#.transpose(2, 0, 1) \n",
    "        if i % 1000 == 0:\n",
    "            print('Loading images: {}'.format(i))\n",
    "    return images\n",
    "\n",
    "def get_multi_hot_labels(df, index_list):\n",
    "    label_id = [df['labelId'][i] for i in index_list]\n",
    "    \n",
    "    labels_matrix = np.zeros([len(index_list), NUM_CLASSES], dtype=np.uint8())\n",
    "    \n",
    "    for i in range(len(label_id)):\n",
    "        for j in range(len(label_id[i].split(' '))):\n",
    "            row, col = i, int(label_id[i].split(' ')[j]) - 1\n",
    "            labels_matrix[row][col] = 1\n",
    "    \n",
    "    return labels_matrix\n",
    "\n",
    "train_df = pd.read_csv('/home/ec2-user/SageMaker/imat/train.csv')\n",
    "validation_df = pd.read_csv('/home/ec2-user/SageMaker/imat/val.csv')\n",
    "\n",
    "train_path_list = train_df['imagePath']\n",
    "eval_path_list = validation_df['imagePath']\n",
    "\n",
    "eval_data = load_images(eval_path_list)\n",
    "eval_labels = get_multi_hot_labels(validation_df, list(range(validation_df.shape[0])))"
   ]
  },
  {
   "cell_type": "code",
   "execution_count": 161,
   "metadata": {},
   "outputs": [
    {
     "data": {
      "text/plain": [
       "((1000, 224, 224, 3), (1000, 228))"
      ]
     },
     "execution_count": 161,
     "metadata": {},
     "output_type": "execute_result"
    }
   ],
   "source": [
    "eval_data.shape, eval_labels.shape\n"
   ]
  },
  {
   "cell_type": "code",
   "execution_count": 162,
   "metadata": {},
   "outputs": [
    {
     "name": "stdout",
     "output_type": "stream",
     "text": [
      "Loading images: 0\n",
      "Loading images: 1000\n",
      "Loading images: 2000\n",
      "Loading images: 3000\n",
      "Loading images: 4000\n",
      "Loading images: 5000\n",
      "Loading images: 6000\n",
      "Loading images: 7000\n",
      "Loading images: 8000\n",
      "Loading images: 9000\n",
      "Loading train labels..\n"
     ]
    }
   ],
   "source": [
    "train_paths = train_path_list\n",
    "train_data = load_images(train_paths)\n",
    "        \n",
    "print('Loading train labels..')\n",
    "train_labels = get_multi_hot_labels(train_df, list(range(validation_df.shape[0])))"
   ]
  },
  {
   "cell_type": "code",
   "execution_count": 163,
   "metadata": {},
   "outputs": [],
   "source": [
    "def main():\n",
    "    \n",
    "    train_iter_size = 1000\n",
    "    num_epochs = 10\n",
    "    batch_size = 1\n",
    "    eval_every_iters = 1\n",
    "    np.random.seed(123)\n",
    "    \n",
    "    #train_steps = []\n",
    "    #train_losses = []\n",
    "    \n",
    "    eval_steps = []\n",
    "    eval_losses = []\n",
    "    eval_precision = []\n",
    "    eval_recall = []\n",
    "    eval_meanfscore = []\n",
    "    \n",
    "    \n",
    "    #print('Trained images so far: {}'.format(k * train_iter_size))\n",
    "        \n",
    "    # Randomly load training data and labels\n",
    "    print('Loading train images..')\n",
    "    random_indices = np.random.randint(0, train_df.shape[0], size=train_iter_size)        \n",
    "    train_paths = [train_path_list[i] for i in random_indices]\n",
    "    train_data = load_images(train_paths)\n",
    "        \n",
    "    print('Loading train labels..')\n",
    "    train_labels = get_multi_hot_labels(train_df, random_indices)\n",
    "\n",
    "    # Train the model\n",
    "    model.fit(train_data, train_labels, epochs=num_epochs)\n",
    "        \n",
    "        \n",
    "    # Garbage collection\n",
    "    train_data = None\n",
    "    train_labels = None\n",
    "        \n",
    "    \n",
    "    eval_track = {'eval_steps':eval_steps, \n",
    "                  'eval_losses':eval_losses, \n",
    "                  'eval_precision':eval_precision, \n",
    "                  'eval_recall':eval_recall, \n",
    "                  'eval_meanfscore':eval_meanfscore}\n",
    "    \n",
    "    return eval_track"
   ]
  },
  {
   "cell_type": "code",
   "execution_count": 164,
   "metadata": {},
   "outputs": [
    {
     "name": "stdout",
     "output_type": "stream",
     "text": [
      "Loading train images..\n",
      "Loading images: 0\n",
      "Loading train labels..\n",
      "Epoch 1/10\n",
      " 864/1000 [========================>.....] - ETA: 2s - loss: 114.7864 - acc: 0.0000e+00"
     ]
    },
    {
     "ename": "KeyboardInterrupt",
     "evalue": "",
     "output_type": "error",
     "traceback": [
      "\u001b[0;31m---------------------------------------------------------------------------\u001b[0m",
      "\u001b[0;31mKeyboardInterrupt\u001b[0m                         Traceback (most recent call last)",
      "\u001b[0;32m<ipython-input-164-593801f0c349>\u001b[0m in \u001b[0;36m<module>\u001b[0;34m()\u001b[0m\n\u001b[0;32m----> 1\u001b[0;31m \u001b[0meval_track\u001b[0m \u001b[0;34m=\u001b[0m \u001b[0mmain\u001b[0m\u001b[0;34m(\u001b[0m\u001b[0;34m)\u001b[0m\u001b[0;34m\u001b[0m\u001b[0m\n\u001b[0m",
      "\u001b[0;32m<ipython-input-163-c0a130fca371>\u001b[0m in \u001b[0;36mmain\u001b[0;34m()\u001b[0m\n\u001b[1;32m     29\u001b[0m \u001b[0;34m\u001b[0m\u001b[0m\n\u001b[1;32m     30\u001b[0m     \u001b[0;31m# Train the model\u001b[0m\u001b[0;34m\u001b[0m\u001b[0;34m\u001b[0m\u001b[0m\n\u001b[0;32m---> 31\u001b[0;31m     \u001b[0mmodel\u001b[0m\u001b[0;34m.\u001b[0m\u001b[0mfit\u001b[0m\u001b[0;34m(\u001b[0m\u001b[0mtrain_data\u001b[0m\u001b[0;34m,\u001b[0m \u001b[0mtrain_labels\u001b[0m\u001b[0;34m,\u001b[0m \u001b[0mepochs\u001b[0m\u001b[0;34m=\u001b[0m\u001b[0mnum_epochs\u001b[0m\u001b[0;34m)\u001b[0m\u001b[0;34m\u001b[0m\u001b[0m\n\u001b[0m\u001b[1;32m     32\u001b[0m \u001b[0;34m\u001b[0m\u001b[0m\n\u001b[1;32m     33\u001b[0m \u001b[0;34m\u001b[0m\u001b[0m\n",
      "\u001b[0;32m~/anaconda3/envs/tensorflow_p36/lib/python3.6/site-packages/keras/engine/training.py\u001b[0m in \u001b[0;36mfit\u001b[0;34m(self, x, y, batch_size, epochs, verbose, callbacks, validation_split, validation_data, shuffle, class_weight, sample_weight, initial_epoch, steps_per_epoch, validation_steps, **kwargs)\u001b[0m\n\u001b[1;32m   1037\u001b[0m                                         \u001b[0minitial_epoch\u001b[0m\u001b[0;34m=\u001b[0m\u001b[0minitial_epoch\u001b[0m\u001b[0;34m,\u001b[0m\u001b[0;34m\u001b[0m\u001b[0m\n\u001b[1;32m   1038\u001b[0m                                         \u001b[0msteps_per_epoch\u001b[0m\u001b[0;34m=\u001b[0m\u001b[0msteps_per_epoch\u001b[0m\u001b[0;34m,\u001b[0m\u001b[0;34m\u001b[0m\u001b[0m\n\u001b[0;32m-> 1039\u001b[0;31m                                         validation_steps=validation_steps)\n\u001b[0m\u001b[1;32m   1040\u001b[0m \u001b[0;34m\u001b[0m\u001b[0m\n\u001b[1;32m   1041\u001b[0m     def evaluate(self, x=None, y=None,\n",
      "\u001b[0;32m~/anaconda3/envs/tensorflow_p36/lib/python3.6/site-packages/keras/engine/training_arrays.py\u001b[0m in \u001b[0;36mfit_loop\u001b[0;34m(model, f, ins, out_labels, batch_size, epochs, verbose, callbacks, val_f, val_ins, shuffle, callback_metrics, initial_epoch, steps_per_epoch, validation_steps)\u001b[0m\n\u001b[1;32m    197\u001b[0m                     \u001b[0mins_batch\u001b[0m\u001b[0;34m[\u001b[0m\u001b[0mi\u001b[0m\u001b[0;34m]\u001b[0m \u001b[0;34m=\u001b[0m \u001b[0mins_batch\u001b[0m\u001b[0;34m[\u001b[0m\u001b[0mi\u001b[0m\u001b[0;34m]\u001b[0m\u001b[0;34m.\u001b[0m\u001b[0mtoarray\u001b[0m\u001b[0;34m(\u001b[0m\u001b[0;34m)\u001b[0m\u001b[0;34m\u001b[0m\u001b[0m\n\u001b[1;32m    198\u001b[0m \u001b[0;34m\u001b[0m\u001b[0m\n\u001b[0;32m--> 199\u001b[0;31m                 \u001b[0mouts\u001b[0m \u001b[0;34m=\u001b[0m \u001b[0mf\u001b[0m\u001b[0;34m(\u001b[0m\u001b[0mins_batch\u001b[0m\u001b[0;34m)\u001b[0m\u001b[0;34m\u001b[0m\u001b[0m\n\u001b[0m\u001b[1;32m    200\u001b[0m                 \u001b[0mouts\u001b[0m \u001b[0;34m=\u001b[0m \u001b[0mto_list\u001b[0m\u001b[0;34m(\u001b[0m\u001b[0mouts\u001b[0m\u001b[0;34m)\u001b[0m\u001b[0;34m\u001b[0m\u001b[0m\n\u001b[1;32m    201\u001b[0m                 \u001b[0;32mfor\u001b[0m \u001b[0ml\u001b[0m\u001b[0;34m,\u001b[0m \u001b[0mo\u001b[0m \u001b[0;32min\u001b[0m \u001b[0mzip\u001b[0m\u001b[0;34m(\u001b[0m\u001b[0mout_labels\u001b[0m\u001b[0;34m,\u001b[0m \u001b[0mouts\u001b[0m\u001b[0;34m)\u001b[0m\u001b[0;34m:\u001b[0m\u001b[0;34m\u001b[0m\u001b[0m\n",
      "\u001b[0;32m~/anaconda3/envs/tensorflow_p36/lib/python3.6/site-packages/keras/backend/tensorflow_backend.py\u001b[0m in \u001b[0;36m__call__\u001b[0;34m(self, inputs)\u001b[0m\n\u001b[1;32m   2713\u001b[0m                 \u001b[0;32mreturn\u001b[0m \u001b[0mself\u001b[0m\u001b[0;34m.\u001b[0m\u001b[0m_legacy_call\u001b[0m\u001b[0;34m(\u001b[0m\u001b[0minputs\u001b[0m\u001b[0;34m)\u001b[0m\u001b[0;34m\u001b[0m\u001b[0m\n\u001b[1;32m   2714\u001b[0m \u001b[0;34m\u001b[0m\u001b[0m\n\u001b[0;32m-> 2715\u001b[0;31m             \u001b[0;32mreturn\u001b[0m \u001b[0mself\u001b[0m\u001b[0;34m.\u001b[0m\u001b[0m_call\u001b[0m\u001b[0;34m(\u001b[0m\u001b[0minputs\u001b[0m\u001b[0;34m)\u001b[0m\u001b[0;34m\u001b[0m\u001b[0m\n\u001b[0m\u001b[1;32m   2716\u001b[0m         \u001b[0;32melse\u001b[0m\u001b[0;34m:\u001b[0m\u001b[0;34m\u001b[0m\u001b[0m\n\u001b[1;32m   2717\u001b[0m             \u001b[0;32mif\u001b[0m \u001b[0mpy_any\u001b[0m\u001b[0;34m(\u001b[0m\u001b[0mis_tensor\u001b[0m\u001b[0;34m(\u001b[0m\u001b[0mx\u001b[0m\u001b[0;34m)\u001b[0m \u001b[0;32mfor\u001b[0m \u001b[0mx\u001b[0m \u001b[0;32min\u001b[0m \u001b[0minputs\u001b[0m\u001b[0;34m)\u001b[0m\u001b[0;34m:\u001b[0m\u001b[0;34m\u001b[0m\u001b[0m\n",
      "\u001b[0;32m~/anaconda3/envs/tensorflow_p36/lib/python3.6/site-packages/keras/backend/tensorflow_backend.py\u001b[0m in \u001b[0;36m_call\u001b[0;34m(self, inputs)\u001b[0m\n\u001b[1;32m   2673\u001b[0m             \u001b[0mfetched\u001b[0m \u001b[0;34m=\u001b[0m \u001b[0mself\u001b[0m\u001b[0;34m.\u001b[0m\u001b[0m_callable_fn\u001b[0m\u001b[0;34m(\u001b[0m\u001b[0;34m*\u001b[0m\u001b[0marray_vals\u001b[0m\u001b[0;34m,\u001b[0m \u001b[0mrun_metadata\u001b[0m\u001b[0;34m=\u001b[0m\u001b[0mself\u001b[0m\u001b[0;34m.\u001b[0m\u001b[0mrun_metadata\u001b[0m\u001b[0;34m)\u001b[0m\u001b[0;34m\u001b[0m\u001b[0m\n\u001b[1;32m   2674\u001b[0m         \u001b[0;32melse\u001b[0m\u001b[0;34m:\u001b[0m\u001b[0;34m\u001b[0m\u001b[0m\n\u001b[0;32m-> 2675\u001b[0;31m             \u001b[0mfetched\u001b[0m \u001b[0;34m=\u001b[0m \u001b[0mself\u001b[0m\u001b[0;34m.\u001b[0m\u001b[0m_callable_fn\u001b[0m\u001b[0;34m(\u001b[0m\u001b[0;34m*\u001b[0m\u001b[0marray_vals\u001b[0m\u001b[0;34m)\u001b[0m\u001b[0;34m\u001b[0m\u001b[0m\n\u001b[0m\u001b[1;32m   2676\u001b[0m         \u001b[0;32mreturn\u001b[0m \u001b[0mfetched\u001b[0m\u001b[0;34m[\u001b[0m\u001b[0;34m:\u001b[0m\u001b[0mlen\u001b[0m\u001b[0;34m(\u001b[0m\u001b[0mself\u001b[0m\u001b[0;34m.\u001b[0m\u001b[0moutputs\u001b[0m\u001b[0;34m)\u001b[0m\u001b[0;34m]\u001b[0m\u001b[0;34m\u001b[0m\u001b[0m\n\u001b[1;32m   2677\u001b[0m \u001b[0;34m\u001b[0m\u001b[0m\n",
      "\u001b[0;32m~/anaconda3/envs/tensorflow_p36/lib/python3.6/site-packages/tensorflow_core/python/client/session.py\u001b[0m in \u001b[0;36m__call__\u001b[0;34m(self, *args, **kwargs)\u001b[0m\n\u001b[1;32m   1470\u001b[0m         ret = tf_session.TF_SessionRunCallable(self._session._session,\n\u001b[1;32m   1471\u001b[0m                                                \u001b[0mself\u001b[0m\u001b[0;34m.\u001b[0m\u001b[0m_handle\u001b[0m\u001b[0;34m,\u001b[0m \u001b[0margs\u001b[0m\u001b[0;34m,\u001b[0m\u001b[0;34m\u001b[0m\u001b[0m\n\u001b[0;32m-> 1472\u001b[0;31m                                                run_metadata_ptr)\n\u001b[0m\u001b[1;32m   1473\u001b[0m         \u001b[0;32mif\u001b[0m \u001b[0mrun_metadata\u001b[0m\u001b[0;34m:\u001b[0m\u001b[0;34m\u001b[0m\u001b[0m\n\u001b[1;32m   1474\u001b[0m           \u001b[0mproto_data\u001b[0m \u001b[0;34m=\u001b[0m \u001b[0mtf_session\u001b[0m\u001b[0;34m.\u001b[0m\u001b[0mTF_GetBuffer\u001b[0m\u001b[0;34m(\u001b[0m\u001b[0mrun_metadata_ptr\u001b[0m\u001b[0;34m)\u001b[0m\u001b[0;34m\u001b[0m\u001b[0m\n",
      "\u001b[0;31mKeyboardInterrupt\u001b[0m: "
     ]
    }
   ],
   "source": [
    "eval_track = main()"
   ]
  },
  {
   "cell_type": "code",
   "execution_count": null,
   "metadata": {},
   "outputs": [],
   "source": []
  }
 ],
 "metadata": {
  "kernelspec": {
   "display_name": "conda_tensorflow_p36",
   "language": "python",
   "name": "conda_tensorflow_p36"
  },
  "language_info": {
   "codemirror_mode": {
    "name": "ipython",
    "version": 3
   },
   "file_extension": ".py",
   "mimetype": "text/x-python",
   "name": "python",
   "nbconvert_exporter": "python",
   "pygments_lexer": "ipython3",
   "version": "3.6.5"
  }
 },
 "nbformat": 4,
 "nbformat_minor": 4
}
