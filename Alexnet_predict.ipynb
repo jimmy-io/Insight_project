{
 "cells": [
  {
   "cell_type": "code",
   "execution_count": 172,
   "metadata": {},
   "outputs": [],
   "source": [
    "import gc\n",
    "import numpy as np\n",
    "import pandas as pd\n",
    "import tensorflow as tf\n",
    "import cv2\n",
    "import matplotlib.pyplot as plt"
   ]
  },
  {
   "cell_type": "code",
   "execution_count": 184,
   "metadata": {},
   "outputs": [],
   "source": [
    "import tensorflow as tf\n",
    "\n",
    "NUM_CLASSES = 228\n",
    "STARTER_LEARNING_RATE = 0.005\n",
    "CUT_OFF = 0.184\n",
    "DECAY_STEPS = 400000\n",
    "DECAY_RATE = 0.5\n",
    "\n",
    "def alexnet_model_fn(features, labels, mode):\n",
    "    \"\"\"Model function for Alexnet.\"\"\"\n",
    "    # Input Layer\n",
    "    # Reshape X to 4-D tensor: [batch_size, width, height, channels]\n",
    "    input_layer = tf.convert_to_tensor(features[\"x\"])\n",
    "    #print(\"input_layer: {}\".format(input_layer.shape))\n",
    "\n",
    "    conv1 = tf.layers.conv2d(inputs=input_layer,filters=96,kernel_size=[11, 11],strides=4,padding=\"valid\",activation=tf.nn.relu)\n",
    "    #print(\"conv1: {}\".format(conv1.shape))\n",
    "\n",
    "    pool1 = tf.layers.max_pooling2d(inputs=conv1, pool_size=[3, 3], strides=2, padding='valid')\n",
    "    #print(\"pool1: {}\".format(pool1.shape))\n",
    "\n",
    "    conv2 = tf.layers.conv2d(inputs= pool1,filters=256,kernel_size=[5, 5],padding=\"same\",activation=tf.nn.relu)\n",
    "    #print(\"conv2: {}\".format(conv2.shape))\n",
    "\n",
    "    pool2 = tf.layers.max_pooling2d(inputs=conv2, pool_size=[3, 3], strides=2, padding='valid')\n",
    "    #print(\"pool2: {}\".format(pool2.shape))\n",
    "\n",
    "    conv3 = tf.layers.conv2d(inputs=pool2,filters=384,kernel_size=[3, 3],padding=\"same\",activation=tf.nn.relu)\n",
    "    #print(\"conv3: {}\".format(conv3.shape))\n",
    "\n",
    "    conv4 = tf.layers.conv2d(inputs=conv3,filters=384,kernel_size=[3, 3],padding=\"same\",activation=tf.nn.relu)\n",
    "    #print(\"conv4: {}\".format(conv4.shape))\n",
    "\n",
    "    conv5 = tf.layers.conv2d(inputs=conv4,filters=256,kernel_size=[3, 3],padding=\"same\",activation=tf.nn.relu)\n",
    "    #print(\"conv5: {}\".format(conv5.shape))\n",
    "\n",
    "    pool5 = tf.layers.max_pooling2d(inputs=conv5, pool_size=[3, 3], strides=2,padding='valid')\n",
    "    #print(\"pool5: {}\".format(pool2.shape))\n",
    "\n",
    "    pool5_flat = tf.reshape(conv5, [-1, 12*12*256])\n",
    "    #print(\"pool5_flat: {}\".format(pool5_flat.shape))\n",
    "\n",
    "    fc6 = tf.layers.dense(inputs=pool5_flat, units=4096, activation=tf.nn.relu)\n",
    "    #print(\"dense1: {}\".format(fc6.shape))  \n",
    "\n",
    "    dropout6 = tf.layers.dropout(inputs=fc6, rate=0.2, training=mode == tf.estimator.ModeKeys.TRAIN)\n",
    "    #print(\"dropout6: {}\".format(dropout6.shape))\n",
    "\n",
    "    fc7 = tf.layers.dense(inputs=dropout6, units=4096, activation=tf.nn.relu)\n",
    "    #print(\"fc7: {}\".format(fc7.shape))\n",
    "\n",
    "    dropout7 = tf.layers.dropout(inputs=fc7, rate=0.2, training=mode == tf.estimator.ModeKeys.TRAIN)\n",
    "    #print(\"dropout7: {}\".format(dropout7.shape))\n",
    "\n",
    "    # Logits Layer\n",
    "    # Input Tensor Shape: [batch_size, 4096]\n",
    "    # Output Tensor Shape: [batch_size, 228]\n",
    "    logits = tf.layers.dense(inputs=dropout7, units=NUM_CLASSES)\n",
    "    #print(\"logits: {}\".format(logits.shape))\n",
    "\n",
    "    # Generate Predictions\n",
    "    predictions = {\n",
    "        # Generate predictions (for PREDICT and EVAL mode)\n",
    "        \"classes\": tf.cast(tf.sigmoid(logits) >= CUT_OFF, tf.int8, name=\"class_tensor\"),\n",
    "        # Add `sigmoid_tensor` to the graph. It is used for PREDICT and by the\n",
    "        # `logging_hook`.\n",
    "        \"probabilities\": tf.nn.sigmoid(logits, name=\"prob_tensor\"),\n",
    "        \"fc_layer\": fc6\n",
    "    } \n",
    "\n",
    "    if mode == tf.estimator.ModeKeys.PREDICT:\n",
    "        return tf.estimator.EstimatorSpec(mode=mode, predictions=predictions)\n",
    "\n",
    "    # Calculate Loss (for both TRAIN and EVAL modes)\n",
    "    #w_tensor = tf.convert_to_tensor(w)\n",
    "    #w_tensor = tf.reshape(w_tensor, [-1,228])\n",
    "    loss = tf.losses.sigmoid_cross_entropy(multi_class_labels=labels, logits=logits)#, weights=w_tensor)\n",
    "\n",
    "    #loss = tf.nn.sigmoid_cross_entropy_with_logits(labels=labels, logits=logits)\n",
    "\n",
    "    # Add evaluation metrics (for EVAL mode)\n",
    "    eval_metric_ops = {\n",
    "        \"meanfscore\": meanfscore(predictions[\"classes\"], labels),\n",
    "        \"precision_micro\": precision_micro(predictions[\"classes\"], labels),\n",
    "        \"recall_micro\": recall_micro(predictions[\"classes\"], labels)}\n",
    "    return tf.estimator.EstimatorSpec(\n",
    "        mode=mode, loss=loss, eval_metric_ops=eval_metric_ops)"
   ]
  },
  {
   "cell_type": "code",
   "execution_count": 185,
   "metadata": {},
   "outputs": [],
   "source": [
    "import numpy as np\n",
    "import pandas as pd\n",
    "import cv2\n",
    "\n",
    "NUM_CLASSES = 228\n",
    "IMAGE_WIDTH = 224\n",
    "IMAGE_HEIGHT = 224\n",
    "\n",
    "def load_images(addrs_list):   \n",
    "    images = np.empty((len(addrs_list), IMAGE_WIDTH, IMAGE_HEIGHT, 3), dtype=np.float32)\n",
    "    for i, fpath in enumerate(addrs_list):\n",
    "        img = cv2.imread(fpath, cv2.IMREAD_COLOR)\n",
    "        img = cv2.resize(img, (224, 224))\n",
    "        images[i, ...] = img#.transpose(2, 0, 1) \n",
    "        if i % 1000 == 0:\n",
    "            print('Loading images: {}'.format(i))\n",
    "    return images\n",
    "\n",
    "def get_multi_hot_labels(df, index_list):\n",
    "    label_id = [df['labelId'][i] for i in index_list]\n",
    "    \n",
    "    labels_matrix = np.zeros([len(index_list), NUM_CLASSES], dtype=np.uint8())\n",
    "    \n",
    "    for i in range(len(label_id)):\n",
    "        for j in range(len(label_id[i].split(' '))):\n",
    "            row, col = i, int(label_id[i].split(' ')[j]) - 1\n",
    "            labels_matrix[row][col] = 1\n",
    "    \n",
    "    return labels_matrix"
   ]
  },
  {
   "cell_type": "code",
   "execution_count": 186,
   "metadata": {},
   "outputs": [],
   "source": [
    "# Load all test images and labels\n",
    "test_df = pd.read_csv('/home/ec2-user/SageMaker/imat/test.csv')\n",
    "\n",
    "test_path_list = test_df['imagePath']"
   ]
  },
  {
   "cell_type": "code",
   "execution_count": 194,
   "metadata": {},
   "outputs": [],
   "source": [
    "def predict(test_data):\n",
    "    multilabel_classifier = tf.estimator.Estimator(\n",
    "            model_fn=alexnet_model_fn, model_dir=\"/home/ec2-user/SageMaker/imat/train set 1/multilabel_alexnet_model\")\n",
    "    test_input_fn = tf.estimator.inputs.numpy_input_fn(\n",
    "            x={\"x\": test_data},\n",
    "            shuffle=False)\n",
    "    predictions = multilabel_classifier.predict(input_fn=test_input_fn)\n",
    "    y_predicted = np.array(list(p['classes'] for p in predictions))\n",
    "    fc = np.array(fc_layer for p in predictions)\n",
    "    label_id = []\n",
    "    image_id = list(range(1, y_predicted.shape[0]+1))\n",
    "    for i in range(y_predicted.shape[0]):\n",
    "        label_array = np.where(y_predicted[i]==1)[0]\n",
    "        label_array += 1\n",
    "        label_string = \"\"\n",
    "        for j in range(label_array.shape[0]):\n",
    "            label_string += \" \" + str(label_array[j])\n",
    "        label_string = label_string[1:]\n",
    "        label_id.append(label_string)\n",
    "    submission = pd.DataFrame({'image_id':image_id, 'label_id':label_id})\n",
    "    return submission, predictions, fc "
   ]
  },
  {
   "cell_type": "code",
   "execution_count": 196,
   "metadata": {},
   "outputs": [
    {
     "name": "stdout",
     "output_type": "stream",
     "text": [
      "Loading images: 0\n",
      "INFO:tensorflow:Using default config.\n",
      "INFO:tensorflow:Using config: {'_model_dir': '/home/ec2-user/SageMaker/imat/train set 1/multilabel_alexnet_model', '_tf_random_seed': None, '_save_summary_steps': 100, '_save_checkpoints_steps': None, '_save_checkpoints_secs': 600, '_session_config': allow_soft_placement: true\n",
      "graph_options {\n",
      "  rewrite_options {\n",
      "    meta_optimizer_iterations: ONE\n",
      "  }\n",
      "}\n",
      ", '_keep_checkpoint_max': 5, '_keep_checkpoint_every_n_hours': 10000, '_log_step_count_steps': 100, '_train_distribute': None, '_device_fn': None, '_protocol': None, '_eval_distribute': None, '_experimental_distribute': None, '_experimental_max_worker_delay_secs': None, '_session_creation_timeout_secs': 7200, '_service': None, '_cluster_spec': <tensorflow.python.training.server_lib.ClusterSpec object at 0x7fc080294320>, '_task_type': 'worker', '_task_id': 0, '_global_id_in_cluster': 0, '_master': '', '_evaluation_master': '', '_is_chief': True, '_num_ps_replicas': 0, '_num_worker_replicas': 1}\n",
      "INFO:tensorflow:Calling model_fn.\n",
      "INFO:tensorflow:Done calling model_fn.\n",
      "INFO:tensorflow:Graph was finalized.\n",
      "INFO:tensorflow:Restoring parameters from /home/ec2-user/SageMaker/imat/train set 1/multilabel_alexnet_model/model.ckpt-5000\n",
      "INFO:tensorflow:Running local_init_op.\n",
      "INFO:tensorflow:Done running local_init_op.\n"
     ]
    },
    {
     "data": {
      "text/plain": [
       "4732"
      ]
     },
     "execution_count": 196,
     "metadata": {},
     "output_type": "execute_result"
    }
   ],
   "source": [
    "test_data = load_images(test_path_list[:10])\n",
    "submission, predictions, fc = predict(test_data)\n",
    "\n",
    "del test_data\n",
    "gc.collect()\n"
   ]
  },
  {
   "cell_type": "code",
   "execution_count": 197,
   "metadata": {},
   "outputs": [
    {
     "data": {
      "text/html": [
       "<div>\n",
       "<style scoped>\n",
       "    .dataframe tbody tr th:only-of-type {\n",
       "        vertical-align: middle;\n",
       "    }\n",
       "\n",
       "    .dataframe tbody tr th {\n",
       "        vertical-align: top;\n",
       "    }\n",
       "\n",
       "    .dataframe thead th {\n",
       "        text-align: right;\n",
       "    }\n",
       "</style>\n",
       "<table border=\"1\" class=\"dataframe\">\n",
       "  <thead>\n",
       "    <tr style=\"text-align: right;\">\n",
       "      <th></th>\n",
       "      <th>image_id</th>\n",
       "      <th>label_id</th>\n",
       "    </tr>\n",
       "  </thead>\n",
       "  <tbody>\n",
       "    <tr>\n",
       "      <th>0</th>\n",
       "      <td>1</td>\n",
       "      <td>17 20 53 66 105 137 153 164 171 184 222</td>\n",
       "    </tr>\n",
       "    <tr>\n",
       "      <th>1</th>\n",
       "      <td>2</td>\n",
       "      <td>17 20 53 66 105 137 153 164 171 184 222</td>\n",
       "    </tr>\n",
       "    <tr>\n",
       "      <th>2</th>\n",
       "      <td>3</td>\n",
       "      <td>17 20 44 53 62 66 105 106 111 137 153 164 171 ...</td>\n",
       "    </tr>\n",
       "    <tr>\n",
       "      <th>3</th>\n",
       "      <td>4</td>\n",
       "      <td>17 20 53 66 105 137 153 164 171 184 222</td>\n",
       "    </tr>\n",
       "    <tr>\n",
       "      <th>4</th>\n",
       "      <td>5</td>\n",
       "      <td>17 20 53 66 105 137 153 164 171 184 222</td>\n",
       "    </tr>\n",
       "    <tr>\n",
       "      <th>5</th>\n",
       "      <td>6</td>\n",
       "      <td>17 66 105 137 153 184 222</td>\n",
       "    </tr>\n",
       "    <tr>\n",
       "      <th>6</th>\n",
       "      <td>7</td>\n",
       "      <td>17 20 53 66 105 106 137 153 164 171 184 222</td>\n",
       "    </tr>\n",
       "    <tr>\n",
       "      <th>7</th>\n",
       "      <td>8</td>\n",
       "      <td>17 20 53 66 105 137 153 164 171 184 222</td>\n",
       "    </tr>\n",
       "    <tr>\n",
       "      <th>8</th>\n",
       "      <td>9</td>\n",
       "      <td>17 20 53 66 105 137 153 164 184 222</td>\n",
       "    </tr>\n",
       "    <tr>\n",
       "      <th>9</th>\n",
       "      <td>10</td>\n",
       "      <td>17 20 53 66 105 106 137 153 164 171 184 222</td>\n",
       "    </tr>\n",
       "  </tbody>\n",
       "</table>\n",
       "</div>"
      ],
      "text/plain": [
       "   image_id                                           label_id\n",
       "0         1            17 20 53 66 105 137 153 164 171 184 222\n",
       "1         2            17 20 53 66 105 137 153 164 171 184 222\n",
       "2         3  17 20 44 53 62 66 105 106 111 137 153 164 171 ...\n",
       "3         4            17 20 53 66 105 137 153 164 171 184 222\n",
       "4         5            17 20 53 66 105 137 153 164 171 184 222\n",
       "5         6                          17 66 105 137 153 184 222\n",
       "6         7        17 20 53 66 105 106 137 153 164 171 184 222\n",
       "7         8            17 20 53 66 105 137 153 164 171 184 222\n",
       "8         9                17 20 53 66 105 137 153 164 184 222\n",
       "9        10        17 20 53 66 105 106 137 153 164 171 184 222"
      ]
     },
     "execution_count": 197,
     "metadata": {},
     "output_type": "execute_result"
    }
   ],
   "source": [
    "submission"
   ]
  },
  {
   "cell_type": "code",
   "execution_count": 202,
   "metadata": {},
   "outputs": [
    {
     "data": {
      "text/plain": [
       "'<generator object predict.<locals>.<genexpr> at 0x7fc0a48bc6d0>'"
      ]
     },
     "execution_count": 202,
     "metadata": {},
     "output_type": "execute_result"
    }
   ],
   "source": [
    "format(str(fc))"
   ]
  },
  {
   "cell_type": "code",
   "execution_count": 183,
   "metadata": {},
   "outputs": [
    {
     "data": {
      "text/plain": [
       "(0,)"
      ]
     },
     "execution_count": 183,
     "metadata": {},
     "output_type": "execute_result"
    }
   ],
   "source": []
  },
  {
   "cell_type": "code",
   "execution_count": null,
   "metadata": {},
   "outputs": [],
   "source": []
  }
 ],
 "metadata": {
  "kernelspec": {
   "display_name": "conda_tensorflow_p36",
   "language": "python",
   "name": "conda_tensorflow_p36"
  },
  "language_info": {
   "codemirror_mode": {
    "name": "ipython",
    "version": 3
   },
   "file_extension": ".py",
   "mimetype": "text/x-python",
   "name": "python",
   "nbconvert_exporter": "python",
   "pygments_lexer": "ipython3",
   "version": "3.6.5"
  }
 },
 "nbformat": 4,
 "nbformat_minor": 4
}
