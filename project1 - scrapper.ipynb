{
 "cells": [
  {
   "cell_type": "code",
   "execution_count": 1,
   "metadata": {},
   "outputs": [],
   "source": [
    "import bs4 as bs\n",
    "\n",
    "import urllib.request\n",
    "\n",
    "\n",
    "import requests"
   ]
  },
  {
   "cell_type": "code",
   "execution_count": null,
   "metadata": {},
   "outputs": [],
   "source": [
    "pages = 76\n",
    "\n",
    "for pg in range(pages):\n",
    "\n",
    "    url='https://www.fashionbeans.com/category/mens-street-style/page/' + str(pg) + '/'\n",
    "\n",
    "    source = urllib.request.urlopen(url).read()\n",
    "    soup=bs.BeautifulSoup(source, 'lxml')\n",
    "\n",
    "    table = soup.find('table')\n",
    "\n",
    "    table_rows = table.find_all('tr')\n",
    "\n",
    "    ls = []\n",
    "    for tr in table_rows:\n",
    "        td = tr.find_all('a')\n",
    "        row = [tr.text.strip() for tr in td]\n",
    "        ls.append(row)"
   ]
  },
  {
   "cell_type": "code",
   "execution_count": 2,
   "metadata": {},
   "outputs": [
    {
     "name": "stdout",
     "output_type": "stream",
     "text": [
      "https://static1.fashionbeans.com/wp-content/uploads/2019/10/2019hannahsept10-255x400.jpg\n",
      "https://static4.fashionbeans.com/wp-content/uploads/2019/10/2019hannahsept17-255x400.jpg\n",
      "https://static2.fashionbeans.com/wp-content/uploads/2019/10/2019hannahsept18-255x400.jpg\n",
      "https://static2.fashionbeans.com/wp-content/uploads/2019/10/2019hannahsept16-255x400.jpg\n",
      "https://static4.fashionbeans.com/wp-content/uploads/2019/10/2019hannahsept19-255x400.jpg\n",
      "https://static1.fashionbeans.com/wp-content/uploads/2019/10/2019hannahsept2-255x400.jpg\n",
      "https://static1.fashionbeans.com/wp-content/uploads/2019/10/2019hannahsept3-255x400.jpg\n",
      "https://static1.fashionbeans.com/wp-content/uploads/2019/10/2019hannahsept6-255x400.jpg\n",
      "https://static4.fashionbeans.com/wp-content/uploads/2019/10/2019hannahsept26-255x400.jpg\n",
      "https://static2.fashionbeans.com/wp-content/uploads/2019/10/2019hannahsept25-255x400.jpg\n",
      "https://static1.fashionbeans.com/wp-content/uploads/2019/10/2019hannahsept13-255x400.jpg\n",
      "https://static4.fashionbeans.com/wp-content/uploads/2019/10/2019hannahsept12-255x400.jpg\n",
      "https://static2.fashionbeans.com/wp-content/uploads/2019/10/2019hannahsept20-255x400.jpg\n",
      "https://static1.fashionbeans.com/wp-content/uploads/2019/09/hannah2019august16-255x400.jpg\n",
      "https://static1.fashionbeans.com/wp-content/uploads/2019/09/hannah2019august18-255x400.jpg\n",
      "https://static4.fashionbeans.com/wp-content/uploads/2019/09/hannah2019august25-255x400.jpg\n",
      "https://static3.fashionbeans.com/wp-content/uploads/2019/09/hannah2019august29-255x400.jpg\n",
      "https://static2.fashionbeans.com/wp-content/uploads/2019/09/hannah2019august8-255x400.jpg\n",
      "https://static1.fashionbeans.com/wp-content/uploads/2019/08/hannah19may28-255x400.jpg\n",
      "https://static4.fashionbeans.com/wp-content/uploads/2019/08/hannah2019july9-255x400.jpg\n",
      "https://static4.fashionbeans.com/wp-content/uploads/2019/08/hannah19may4-255x400.jpg\n",
      "https://static2.fashionbeans.com/wp-content/uploads/2019/09/hannah2019august3-255x400.jpg\n",
      "https://static2.fashionbeans.com/wp-content/uploads/2019/09/hannah2019august4-255x400.jpg\n",
      "https://static3.fashionbeans.com/wp-content/uploads/2019/09/hannah2019august11-255x400.jpg\n",
      "https://static2.fashionbeans.com/wp-content/uploads/2019/09/hannah2019august22-255x400.jpg\n",
      "https://static1.fashionbeans.com/wp-content/uploads/2019/09/hannah2019august10-255x400.jpg\n",
      "https://static4.fashionbeans.com/wp-content/uploads/2019/09/hannah2019august20-255x400.jpg\n",
      "https://static2.fashionbeans.com/wp-content/uploads/2019/09/hannah2019august7-255x400.jpg\n",
      "https://static2.fashionbeans.com/wp-content/uploads/2019/08/parissstyleimages20-255x400.jpg\n",
      "https://static1.fashionbeans.com/wp-content/uploads/2019/08/hannah19may26-255x400.jpg\n"
     ]
    }
   ],
   "source": [
    "url='https://www.fashionbeans.com/category/mens-street-style/page/2/'\n",
    "\n",
    "source = urllib.request.urlopen(url).read()\n",
    "soup=bs.BeautifulSoup(source, 'lxml')\n",
    "\n",
    "for each_div in soup.findAll('div',{'class':'fluidArticleContent'}):\n",
    "    td = each_div.img['src']  #.find_all('img')\n",
    "    tr = td\n",
    "    print(tr)\n",
    "\n"
   ]
  },
  {
   "cell_type": "code",
   "execution_count": 84,
   "metadata": {},
   "outputs": [
    {
     "data": {
      "text/plain": [
       "('00000001.jpg', <http.client.HTTPMessage at 0x11d134150>)"
      ]
     },
     "execution_count": 84,
     "metadata": {},
     "output_type": "execute_result"
    }
   ],
   "source": [
    "urllib.request.urlretrieve(\"https://static2.fashionbeans.com/wp-content/uploads/2019/08/hannah19may26-255x400.jpg\", \"00000001.jpg\")"
   ]
  },
  {
   "cell_type": "code",
   "execution_count": 5,
   "metadata": {},
   "outputs": [],
   "source": [
    "pages = 76\n",
    "\n",
    "for pg in range(pages):\n",
    "\n",
    "    url='https://www.fashionbeans.com/category/mens-street-style/page/' + str(pg) + '/'\n",
    "    \n",
    "    source = urllib.request.urlopen(url).read()\n",
    "    soup=bs.BeautifulSoup(source, 'lxml')\n",
    "    \n",
    "    count = 0\n",
    "    \n",
    "    for each_div in soup.findAll('div',{'class':'fluidArticleContent'}):\n",
    "        td = each_div.img['src']  #.find_all('img')\n",
    "        \n",
    "        #print(td)\n",
    "        \n",
    "        count += 1\n",
    "        \n",
    "        urllib.request.urlretrieve(str(td), str(pg) + str(count) + \".jpg\")"
   ]
  },
  {
   "cell_type": "code",
   "execution_count": null,
   "metadata": {},
   "outputs": [],
   "source": []
  }
 ],
 "metadata": {
  "kernelspec": {
   "display_name": "Python 3",
   "language": "python",
   "name": "python3"
  },
  "language_info": {
   "codemirror_mode": {
    "name": "ipython",
    "version": 3
   },
   "file_extension": ".py",
   "mimetype": "text/x-python",
   "name": "python",
   "nbconvert_exporter": "python",
   "pygments_lexer": "ipython3",
   "version": "3.7.3"
  }
 },
 "nbformat": 4,
 "nbformat_minor": 4
}
